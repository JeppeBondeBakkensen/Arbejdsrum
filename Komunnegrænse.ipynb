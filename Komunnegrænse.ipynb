{
 "cells": [
  {
   "cell_type": "code",
   "execution_count": 5,
   "metadata": {},
   "outputs": [
    {
     "name": "stdout",
     "output_type": "stream",
     "text": [
      "Filtered data saved to Manipuleret data/Komunnegrænsen.csv\n"
     ]
    }
   ],
   "source": [
    "import pandas as pd\n",
    "\n",
    "def main(input_file, output_file):\n",
    "    df = pd.read_csv(input_file)\n",
    "    komunnegrænse = [8, 13, 14, 16, 20, 24, 31, 36, 40, 43, 45, 49, 55, \n",
    "                             62, 63, 70, 71, 73, 74, 75, 78, 79, 80, 82, 194, \n",
    "                             392, 487, 544, 609, 708, 709]\n",
    "    df = df[df[\"TS\"].isin(komunnegrænse)]\n",
    "    df.to_csv(output_file, index=False)\n",
    "    print(f\"Filtered data saved to {output_file}\")\n",
    "\n",
    "input_file = \"Manipuleret data/Generel.csv\"\n",
    "output_file = \"Manipuleret data/Komunnegrænsen.csv\"\n",
    "main(input_file, output_file)\n"
   ]
  },
  {
   "cell_type": "code",
   "execution_count": 6,
   "metadata": {},
   "outputs": [
    {
     "name": "stdout",
     "output_type": "stream",
     "text": [
      "Filtered data saved to Manipuleret data/Komunnegrænsen_Spidsbelastning.csv\n"
     ]
    }
   ],
   "source": [
    "import pandas as pd\n",
    "\n",
    "def main(input_file, output_file):\n",
    "    df = pd.read_csv(input_file)\n",
    "    komunnegrænse = [8, 13, 14, 16, 20, 24, 31, 36, 40, 43, 45, 49, 55, \n",
    "                             62, 63, 70, 71, 73, 74, 75, 78, 79, 80, 82, 194, \n",
    "                             392, 487, 544, 609, 708, 709]\n",
    "\n",
    "    df = df.groupby(['TS', 'VEJNAVN', 'ÅR', 'KATEGORI'], as_index=False).agg({\"ANTAL 8-9\": \"sum\"})\n",
    " \n",
    "    df = df[df[\"TS\"].isin(komunnegrænse)]\n",
    "    df.to_csv(output_file, index=False)\n",
    "    print(f\"Filtered data saved to tesst {output_file}\")\n",
    "\n",
    "input_file = \"Cleaned_data.csv\"\n",
    "output_file = \"Manipuleret data/Komunnegrænsen_Spidsbelastning.csv\"\n",
    "main(input_file, output_file)"
   ]
  }
 ],
 "metadata": {
  "kernelspec": {
   "display_name": "studie",
   "language": "python",
   "name": "python3"
  },
  "language_info": {
   "codemirror_mode": {
    "name": "ipython",
    "version": 3
   },
   "file_extension": ".py",
   "mimetype": "text/x-python",
   "name": "python",
   "nbconvert_exporter": "python",
   "pygments_lexer": "ipython3",
   "version": "3.12.2"
  }
 },
 "nbformat": 4,
 "nbformat_minor": 2
}
