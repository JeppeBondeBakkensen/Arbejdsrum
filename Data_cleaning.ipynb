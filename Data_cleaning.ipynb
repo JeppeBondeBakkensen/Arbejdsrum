{
 "cells": [
  {
   "cell_type": "code",
   "execution_count": 225,
   "metadata": {},
   "outputs": [],
   "source": [
    "# Packages \n",
    "import pandas as pd"
   ]
  },
  {
   "cell_type": "code",
   "execution_count": 226,
   "metadata": {},
   "outputs": [],
   "source": [
    "def ts_filter(df):\n",
    "    \"\"\"Filter TS numbers that appear in exactly 10 unique years.\"\"\"\n",
    "    df['ÅR'] = df['ÅR'].astype(str)\n",
    "    ts_with_10_years = df.groupby('TS')['ÅR'].nunique()  \n",
    "    valid_ts = ts_with_10_years[ts_with_10_years >= 5].index\n",
    "    filtered_df = df[df['TS'].isin(valid_ts)]\n",
    "    return filtered_df"
   ]
  },
  {
   "cell_type": "code",
   "execution_count": 227,
   "metadata": {},
   "outputs": [],
   "source": [
    "# Merge retninger \n",
    "def merge_retninger(df):\n",
    "    \"\"\"Merge the retninger columns into a single column.\"\"\"\n",
    "    group_cols = [\"TS\", \"VEJNAVN\", \"ÅR\", \"KATEGORI\"]\n",
    "    antal_cols = [col for col in df.columns if col.startswith(\"ANTAL\")]\n",
    "    df_grouped = df.groupby(group_cols, as_index=False)[antal_cols].sum()\n",
    "    return df_grouped"
   ]
  },
  {
   "cell_type": "code",
   "execution_count": 228,
   "metadata": {},
   "outputs": [],
   "source": [
    "# Rename Kateogri\n",
    "def rename_categories(df, category_mapping):\n",
    "    df['KATEGORI'] = df['KATEGORI'].replace(category_mapping)\n",
    "    return df"
   ]
  },
  {
   "cell_type": "code",
   "execution_count": 229,
   "metadata": {},
   "outputs": [],
   "source": [
    "# Merge Kategorier\n",
    "def merge_and_sum_categories(df, source_category, target_category):\n",
    "    count_columns = [col for col in df.columns if col.startswith(\"ANTAL\")]\n",
    "    source_rows = df[df[\"KATEGORI\"] == source_category]\n",
    "    target_rows = df[df[\"KATEGORI\"] == target_category]\n",
    "\n",
    "    for _, source_row in source_rows.iterrows():\n",
    "        matching_target_row = target_rows[\n",
    "            (target_rows[\"VEJNAVN\"] == source_row[\"VEJNAVN\"])\n",
    "            & (target_rows[\"TS\"] == source_row[\"TS\"])\n",
    "            & (target_rows[\"ÅR\"] == source_row[\"ÅR\"])\n",
    "        ]\n",
    "        if not matching_target_row.empty:\n",
    "            target_index = matching_target_row.index[0]\n",
    "            for col in count_columns:\n",
    "                df.at[target_index, col] += source_row[col]\n",
    "\n",
    "    df = df[df[\"KATEGORI\"] != source_category]\n",
    "    return df\n"
   ]
  },
  {
   "cell_type": "code",
   "execution_count": 230,
   "metadata": {},
   "outputs": [],
   "source": [
    "# Total Sum\n",
    "def Total_sum(df):\n",
    "    antal_columns = [col for col in df.columns if col.startswith(\"ANTAL \")]\n",
    "    df[\"TOTAL\"] = df[antal_columns].sum(axis=1)\n",
    "    return df"
   ]
  },
  {
   "cell_type": "code",
   "execution_count": 231,
   "metadata": {},
   "outputs": [],
   "source": [
    "# Udregne tung trafik procent\n",
    "def calculate_tung_traffic_percentage(df):\n",
    "    Tunge = df[df[\"KATEGORI\"] == \"B: TUNG TRAFIK I ALT\"].set_index([\"TS\", \"ÅR\"])[\"TOTAL\"]\n",
    "    def compute_percentage(row):\n",
    "        if row[\"KATEGORI\"] == \"A+B: KØRETØJER I ALT\":\n",
    "            key = (row[\"TS\"], row[\"ÅR\"])\n",
    "            if key in Tunge:\n",
    "                return (Tunge[key] / row[\"TOTAL\"]) if Tunge[key] != 0 else 0\n",
    "        return None  # Keep other categories as NaN\n",
    "    df[\"TUNG %\"] = df.apply(compute_percentage, axis=1)\n",
    "    \n",
    "    return df"
   ]
  },
  {
   "cell_type": "code",
   "execution_count": 232,
   "metadata": {},
   "outputs": [],
   "source": [
    "# Udregne Ladcykler i procent\n",
    "def calculate_Ladcykler_percentage(df):\n",
    "    Ladcykler = df[df[\"KATEGORI\"] == \"LADCYKLER\"].set_index([\"TS\", \"ÅR\"])[\"TOTAL\"]\n",
    "    def compute_percentage(row):\n",
    "        if row[\"KATEGORI\"] == \"CYKLER + KNALLERTER I ALT\":\n",
    "            key = (row[\"TS\"], row[\"ÅR\"])\n",
    "            if key in Ladcykler:\n",
    "                return (Ladcykler[key] / row[\"TOTAL\"]) if Ladcykler[key] != 0 else 0\n",
    "        return None  # Keep other categories as NaN\n",
    "    df[\"LADCYKLER %\"] = df.apply(compute_percentage, axis=1)\n",
    "    \n",
    "    return df"
   ]
  },
  {
   "cell_type": "code",
   "execution_count": 233,
   "metadata": {},
   "outputs": [
    {
     "name": "stdout",
     "output_type": "stream",
     "text": [
      "\n",
      "File processed and saved successfully as Cleaned_data.csv.\n",
      "['PERSONBILER + MC' 'VAREVOGNE (MAX. 3,5 t)' 'A: LET TRAFIK I ALT'\n",
      " 'LASTBILER' 'B: TUNG TRAFIK I ALT' 'A+B: KØRETØJER I ALT' 'LADCYKLER'\n",
      " 'CYKLER + KNALLERTER' 'CYKLER + KNALLERTER I ALT' 'BUSSER']\n"
     ]
    }
   ],
   "source": [
    "def main(input_file_path, output_file_path):\n",
    "    df = pd.read_csv(input_file_path)\n",
    "    df = ts_filter(df)\n",
    "    df = merge_retninger(df)\n",
    "\n",
    "    # Rename categories\n",
    "    category_mapping = {\n",
    "        \"VAREVOGNE (MAX. 3,5 T)\": \"VAREVOGNE (MAX. 3,5 t)\",\n",
    "        \"LASTBILER, 3 aksler\": \"LASTBILER, 3 AKSLER\",\n",
    "        \"LASTBILER, 2 aksler\": \"LASTBILER, 2 AKSLER\",\n",
    "        \"LASTBILER, 2-3 aksler\": \"LASTBILER, 2-3 AKSLER\",\n",
    "        \"Ladcykler\": \"LADCYKLER\"\n",
    "    }\n",
    "    df = rename_categories(df, category_mapping)\n",
    "\n",
    "    # Merge categories\n",
    "    df = merge_and_sum_categories(df, \"Knallerter\", \"Cykler\")\n",
    "    df['KATEGORI'] = df['KATEGORI'].replace({\"Cykler\": \"CYKLER + KNALLERTER\"})\n",
    "    df = merge_and_sum_categories(df, \"CYKLER MOD ENSRETNINGEN\", \"CYKLER + KNALLERTER\")\n",
    "    df = merge_and_sum_categories(df, \"EL-LØBEHJUL O.L.\", \"CYKLER + KNALLERTER\")\n",
    "\n",
    "    df = merge_and_sum_categories(df, \"MOTORCYKLER\", \"PERSONBILER\")  \n",
    "    df = merge_and_sum_categories(df, \"TAXA\", \"PERSONBILER\")  \n",
    "    df['KATEGORI'] = df['KATEGORI'].replace({\"PERSONBILER\": \"PERSONBILER + MC\"})\n",
    "\n",
    "    df = merge_and_sum_categories(df, \"LASTBILER, 2 AKSLER\", \"LASTBILER, 3 AKSLER\")\n",
    "    df = merge_and_sum_categories(df, \"LASTBILER, 3 AKSLER\", \"LASTBILER, 4 - flere aksler\")\n",
    "    df = merge_and_sum_categories(df, \"LASTBILER, 2-3 AKSLER\", \"LASTBILER, 4 - flere aksler\")\n",
    "    df['KATEGORI'] = df['KATEGORI'].replace({\"LASTBILER, 4 - flere aksler\": \"LASTBILER\"})\n",
    "\n",
    "    df = merge_and_sum_categories(df, \"ANDRE BUSSER\", \"BUSSER\")\n",
    "    df = merge_and_sum_categories(df, \"BUSSER I FAST RUTE\", \"BUSSER\")\n",
    "\n",
    "    # Define the desired order\n",
    "    category_order = [\n",
    "        \"PERSONBILER + MC\",\n",
    "        \"VAREVOGNE (MAX. 3,5 t)\",\n",
    "        \"A: LET TRAFIK I ALT\",\n",
    "        \"LASTBILER\",\n",
    "        \"BUSSER\",\n",
    "        \"B: TUNG TRAFIK I ALT\",\n",
    "        \"A+B: KØRETØJER I ALT\",\n",
    "        \"LADCYKLER\",\n",
    "        \"CYKLER + KNALLERTER\",\n",
    "        \"CYKLER + KNALLERTER I ALT\"\n",
    "    ]\n",
    "\n",
    "    # Total sum\n",
    "    df = Total_sum(df)\n",
    "    df = calculate_tung_traffic_percentage(df)\n",
    "    df = calculate_Ladcykler_percentage(df)\n",
    "    # Assign ranking index and sort\n",
    "    df[\"sort_order\"] = df[\"KATEGORI\"].apply(lambda x: category_order.index(x) if x in category_order else len(category_order))\n",
    "    df = df.sort_values(by=[\"TS\", \"ÅR\", \"sort_order\"]).drop(columns=[\"sort_order\"])\n",
    "    \n",
    "    df.to_csv(output_file_path, index=False)\n",
    "    print(f\"\\nFile processed and saved successfully as {output_file_path}.\")\n",
    "    print(df['KATEGORI'].unique())\n",
    "\n",
    "# Run the main function\n",
    "input_file_path = 'Original udtræk.csv'\n",
    "output_file_path = 'Cleaned_data.csv'\n",
    "main(input_file_path, output_file_path)\n"
   ]
  }
 ],
 "metadata": {
  "kernelspec": {
   "display_name": "studie",
   "language": "python",
   "name": "python3"
  },
  "language_info": {
   "codemirror_mode": {
    "name": "ipython",
    "version": 3
   },
   "file_extension": ".py",
   "mimetype": "text/x-python",
   "name": "python",
   "nbconvert_exporter": "python",
   "pygments_lexer": "ipython3",
   "version": "3.12.2"
  }
 },
 "nbformat": 4,
 "nbformat_minor": 2
}
